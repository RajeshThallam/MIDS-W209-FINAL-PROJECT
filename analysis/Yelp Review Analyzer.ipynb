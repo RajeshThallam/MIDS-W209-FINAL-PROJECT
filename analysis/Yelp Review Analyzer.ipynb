{
 "cells": [
  {
   "cell_type": "markdown",
   "metadata": {},
   "source": [
    "## Import libraries"
   ]
  },
  {
   "cell_type": "code",
   "execution_count": 9,
   "metadata": {
    "collapsed": true
   },
   "outputs": [],
   "source": [
    "# basic libraries\n",
    "import json\n",
    "import nltk\n",
    "import string\n",
    "import os\n",
    "\n",
    "# nltk\n",
    "from nltk.corpus import stopwords\n",
    "from nltk.tokenize import RegexpTokenizer\n",
    "from nltk.stem import WordNetLemmatizer\n",
    "from nltk.stem.porter import PorterStemmer\n",
    "\n",
    "# collections\n",
    "from collections import defaultdict\n",
    "from collections import Counter\n",
    "\n",
    "# elasticsearch\n",
    "from elasticsearch import Elasticsearch\n",
    "\n",
    "# alchemy for language analysis\n",
    "from alchemyapi import AlchemyAPI\n",
    "\n",
    "# initialization\n",
    "DATA_DIR = '/home/rt/wrk/w209/yelp/data'"
   ]
  },
  {
   "cell_type": "markdown",
   "metadata": {},
   "source": [
    "## Data Cleansing - Tokenize and Stemming using NLTK"
   ]
  },
  {
   "cell_type": "code",
   "execution_count": 10,
   "metadata": {
    "collapsed": true
   },
   "outputs": [],
   "source": [
    "# utility function to parse and return json\n",
    "def process_json(filename):\n",
    "    result = []\n",
    "\n",
    "    infile = open(filename,\"r\")\n",
    "\n",
    "    for line in infile:\n",
    "        temp = json.loads( line.strip() )\n",
    "        if 'create' in temp:\n",
    "            continue\n",
    "        result.append(temp)\n",
    "\n",
    "    return result"
   ]
  },
  {
   "cell_type": "code",
   "execution_count": 37,
   "metadata": {
    "collapsed": false
   },
   "outputs": [],
   "source": [
    "def process_review(file_name):\n",
    "    print \"processing file name {}\".format(file_name)\n",
    "\n",
    "    reviews = process_json(os.path.join(DATA_DIR,file_name))\n",
    "    print \"# of reviews: {}\".format(len(reviews))\n",
    "\n",
    "    ids_hash = defaultdict(list)\n",
    "    #ids = ['4bEjOyTaDG24SY5TxsaUNQ']\n",
    "    ids = ['6imLt53br7SJ3av07jjH7w', '41j3GB7M-Lwq284Pfb9zgw']\n",
    "\n",
    "    reviews_text = \"\"\n",
    "\n",
    "    # initialize tokenizer and stemmer\n",
    "    tokenization_pattern = r'''(?x)    # set flag to allow verbose regexps\n",
    "    ([A-Z]\\.)+        # abbreviations, e.g. U.S.A.\n",
    "    | \\w+(-\\w+)*        # words with optional internal hyphens\n",
    "    | \\$?\\d+(\\.\\d+)?%?  # currency and percentages, e.g. $12.40, 82%\n",
    "    | \\w+[\\x90-\\xff]  # these are escaped emojis\n",
    "    | [][.,;\"'?():-_`]  # these are separate tokens\n",
    "    '''\n",
    "    word_tokenizer = nltk.tokenize.regexp.RegexpTokenizer(tokenization_pattern)\n",
    "    porter_stemmer = PorterStemmer()\n",
    "    wordnet_lemmatizer = WordNetLemmatizer()\n",
    "\n",
    "    for item in reviews:\n",
    "        tokens = word_tokenizer.tokenize(item['text'].lower())\n",
    "        normalized = [w for w in tokens if w.lower() not in stopwords.words('english')]\n",
    "        #stemmed_reviews.append(' '.join(map(porter_stemmer.stem, normalized)))\n",
    "        treated_review = ' '.join(map(wordnet_lemmatizer.lemmatize, normalized))\n",
    "        ids_hash[item['business_id']].append(treated_review)\n",
    "        \n",
    "    print \"Length of treated reviews = {}\".format(len(ids_hash))\n",
    "    \n",
    "    nlp_process(ids, ids_hash)\n",
    "    #print stemmed_review_blob"
   ]
  },
  {
   "cell_type": "markdown",
   "metadata": {},
   "source": [
    "## Sentiment Analysis and Topic Modeling using Alchemy API"
   ]
  },
  {
   "cell_type": "code",
   "execution_count": 16,
   "metadata": {
    "collapsed": true
   },
   "outputs": [],
   "source": [
    "def nlp_process(ids,ids_hash):\n",
    "    #instantiate an elasticsearch client\n",
    "    #es = Elasticsearch()\n",
    "    outfile = open('business_level.txt', 'w')\n",
    "\n",
    "    #instantiate an alchemy client\n",
    "    alchemyapi = AlchemyAPI()\n",
    "\n",
    "    for item in ids:\n",
    "        data = ' '.join(ids_hash[item])\n",
    "        alchem_keywords = []\n",
    "        alchem_concepts = []\n",
    "\n",
    "        response = alchemyapi.combined('text', data, {'sentiment': 1, 'maxRetrieve': 100})\n",
    "\n",
    "        if len(data) > 0:\n",
    "            if response['status'] == 'OK':\n",
    "                print('#Success#')\n",
    "                for keyword in response['keywords']:\n",
    "                    al_temp = defaultdict()\n",
    "\n",
    "                    al_temp['text'] = keyword['text'].encode('utf-8')\n",
    "                    al_temp['relevance'] = keyword['relevance']\n",
    "                    al_temp['sentiment'] = keyword['sentiment']['type']\n",
    "\n",
    "                    if 'score' in keyword['sentiment']:\n",
    "                        al_temp['score'] = keyword['sentiment']['score']\n",
    "\n",
    "                    alchem_keywords.append(al_temp)\n",
    "\n",
    "                for keyword in response['concepts']:\n",
    "                    al_temp = defaultdict()\n",
    "\n",
    "                    al_temp['text'] = keyword['text'].encode('utf-8')\n",
    "                    al_temp['relevance'] = keyword['relevance']\n",
    "\n",
    "                    alchem_concepts.append(al_temp)\n",
    "\n",
    "            else:\n",
    "                print('Error in keyword extaction call: ', response['statusInfo'])\n",
    "            print len(alchem_keywords), len(alchem_concepts)\n",
    "\n",
    "            # prepare body for insertion\n",
    "            doc = {\n",
    "                \"business_id\" : item,\n",
    "                \"word_freq\": alchem_keywords,\n",
    "                \"topics\": alchem_concepts\n",
    "            }\n",
    "\n",
    "        #exit()\n",
    "        \n",
    "        #template = { \"create\": { \"_index\": \"alchem\", \"_type\": \"doc\"} }\n",
    "        #res = es.index(index=\"alchem\", doc_type='doc', body=doc)\n",
    "        \n",
    "            json.dump(doc, outfile)"
   ]
  },
  {
   "cell_type": "code",
   "execution_count": 33,
   "metadata": {
    "collapsed": false
   },
   "outputs": [
    {
     "name": "stdout",
     "output_type": "stream",
     "text": [
      "#Success#\n",
      "99 8\n",
      "#Success#\n",
      "100 8\n"
     ]
    }
   ],
   "source": [
    "nlp_process(ids, ids_hash)"
   ]
  },
  {
   "cell_type": "markdown",
   "metadata": {},
   "source": [
    "## Results"
   ]
  },
  {
   "cell_type": "code",
   "execution_count": 35,
   "metadata": {
    "collapsed": true
   },
   "outputs": [],
   "source": [
    "def nlp_results(file_name):\n",
    "    infile = open(file_name, \"r\")\n",
    "    \n",
    "    for line in infile.readlines():\n",
    "        line = json.loads( line.strip() )\n",
    "        \n",
    "        print \"=\"*80\n",
    "        print \"business_id : {}\".format(line['business_id'])\n",
    "        print \"=\"*80\n",
    "\n",
    "        print \"-\"*80\n",
    "        print \"concepts\"\n",
    "        print \"-\"*80\n",
    "        print \"{0: <50} | {1}\".format('text', 'relevance')\n",
    "        for items in line['topics']:\n",
    "            #print items\n",
    "            print \"{0: <50} | {1}\".format(items['text'].encode('utf-8'), items['relevance'])\n",
    "        print \"-\"*80\n",
    "\n",
    "        print \"keywords\"    \n",
    "        print \"-\"*80\n",
    "        print \"{0: <50} | {1: <10} | {2: <10} | {3}\".format('text', 'sentiment', 'score', 'relevance')\n",
    "        print \"-\"*80\n",
    "        for items in line['word_freq']:\n",
    "            if items['sentiment'] in ['positive', 'negative']:\n",
    "                print \"{0: <50} | {1: <10} | {2: <10} | {3}\".format(items['text'], items['sentiment'], items.get('score', 0.0), items['relevance'])\n",
    "\n",
    "        print \"-\"*80"
   ]
  },
  {
   "cell_type": "code",
   "execution_count": 36,
   "metadata": {
    "collapsed": false
   },
   "outputs": [
    {
     "name": "stdout",
     "output_type": "stream",
     "text": [
      "================================================================================\n",
      "business_id : 6imLt53br7SJ3av07jjH7w\n",
      "================================================================================\n",
      "--------------------------------------------------------------------------------\n",
      "concepts\n",
      "--------------------------------------------------------------------------------\n",
      "text                                               | relevance\n",
      "Bread                                              | 0.907779\n",
      "Bar                                                | 0.888896\n",
      "Anchovy                                            | 0.803765\n",
      "Pizza                                              | 0.746982\n",
      "Place identity                                     | 0.746041\n",
      "Italian cuisine                                    | 0.741774\n",
      "Elevator                                           | 0.720353\n",
      "Phoenix, Arizona                                   | 0.718297\n",
      "--------------------------------------------------------------------------------\n",
      "keywords\n",
      "--------------------------------------------------------------------------------\n",
      "text                                               | sentiment  | score      | relevance\n",
      "--------------------------------------------------------------------------------\n",
      "hanny                                              | positive   | 0.3709     | 0.995137\n",
      "place                                              | positive   | 0.0168363  | 0.862003\n",
      "pizza                                              | positive   | 0.219944   | 0.849103\n",
      "elevator shaft                                     | negative   | -0.386209  | 0.841258\n",
      "high hope hanny                                    | positive   | 0.28176    | 0.812375\n",
      "price hanny                                        | positive   | 0.221751   | 0.775695\n",
      "alternative lunch hanny                            | positive   | 0.664656   | 0.775529\n",
      "great place                                        | positive   | 0.717218   | 0.759849\n",
      "bar food                                           | negative   | -0.4688    | 0.709277\n",
      "good bar food                                      | negative   | -0.4688    | 0.709223\n",
      "martini glass                                      | negative   | -0.392858  | 0.702314\n",
      "bread pizza type                                   | positive   | 0.333144   | 0.702161\n",
      "place serf food                                    | negative   | -0.274117  | 0.698279\n",
      "positive review place                              | positive   | 0.510018   | 0.689626\n",
      "pizza bianco                                       | positive   | 0.391966   | 0.686094\n",
      "great lounge music                                 | positive   | 0.264504   | 0.681595\n",
      "--------------------------------------------------------------------------------\n",
      "================================================================================\n",
      "business_id : 41j3GB7M-Lwq284Pfb9zgw\n",
      "================================================================================\n",
      "--------------------------------------------------------------------------------\n",
      "concepts\n",
      "--------------------------------------------------------------------------------\n",
      "text                                               | relevance\n",
      "Beer                                               | 0.960994\n",
      "Beer style                                         | 0.674659\n",
      "Beer tap                                           | 0.559484\n",
      "Michael Jackson                                    | 0.533222\n",
      "Keg                                                | 0.50334\n",
      "Ale                                                | 0.485458\n",
      "Malt                                               | 0.419091\n",
      "Wheat beer                                         | 0.395637\n",
      "--------------------------------------------------------------------------------\n",
      "keywords\n",
      "--------------------------------------------------------------------------------\n",
      "text                                               | sentiment  | score      | relevance\n",
      "--------------------------------------------------------------------------------\n",
      "beer                                               | positive   | 0.0911362  | 0.98406\n",
      "beer selection                                     | positive   | 0.431135   | 0.922687\n",
      "beer tap                                           | positive   | 0.499993   | 0.768598\n",
      "craft beer                                         | positive   | 0.592748   | 0.750396\n",
      "selection beer                                     | positive   | 0.480246   | 0.735138\n",
      "place                                              | positive   | 0.397646   | 0.727593\n",
      "good beer                                          | positive   | 0.704863   | 0.711565\n",
      "angel trumpet                                      | positive   | 0.281673   | 0.697429\n",
      "good variety beer                                  | positive   | 0.499993   | 0.679588\n",
      "huge selection beer                                | positive   | 0.480246   | 0.677359\n",
      "beer great patio                                   | positive   | 0.647956   | 0.651678\n",
      "laid-back place beer                               | positive   | 0.510362   | 0.649484\n",
      "selection craft beer                               | positive   | 0.670288   | 0.648616\n",
      "variety beer tap                                   | positive   | 0.499993   | 0.643872\n",
      "rating beer selection                              | positive   | 0.346376   | 0.635939\n",
      "selection draft beer                               | positive   | 0.535055   | 0.634655\n",
      "beer menu giant                                    | positive   | 0.472545   | 0.630132\n",
      "thirsty quality beer                               | positive   | 0.463921   | 0.625332\n",
      "drink ton beer                                     | positive   | 0.501414   | 0.622755\n",
      "downtown phoenix                                   | positive   | 0.449709   | 0.621236\n",
      "brewer craft beer                                  | positive   | 0.67534    | 0.617656\n",
      "--------------------------------------------------------------------------------\n"
     ]
    }
   ],
   "source": [
    "nlp_results('business_level.txt')"
   ]
  }
 ],
 "metadata": {
  "kernelspec": {
   "display_name": "Python 2",
   "language": "python",
   "name": "python2"
  },
  "language_info": {
   "codemirror_mode": {
    "name": "ipython",
    "version": 2
   },
   "file_extension": ".py",
   "mimetype": "text/x-python",
   "name": "python",
   "nbconvert_exporter": "python",
   "pygments_lexer": "ipython2",
   "version": "2.7.6"
  }
 },
 "nbformat": 4,
 "nbformat_minor": 0
}
